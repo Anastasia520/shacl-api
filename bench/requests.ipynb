{
 "cells": [
  {
   "cell_type": "code",
   "execution_count": 70,
   "metadata": {},
   "outputs": [
    {
     "name": "stdout",
     "output_type": "stream",
     "text": [
      "<class 'bytes'>\n"
     ]
    },
    {
     "data": {
      "text/plain": [
       "'@prefix :        <https://epfl.ch/example/> .\\n@prefix bio:     <https://bioschemas.org/> .\\n@prefix dash:    <http://datashapes.org/dash#> .\\n@prefix dcterms: <http://purl.org/dc/terms/> .\\n@prefix ex:      <http://example.com/ns#> .\\n@prefix graphql: <http://datashapes.org/graphql#> .\\n@prefix md4i:    <http://w3id.org/nfdi4ing/metadata4ing#> .\\n@prefix owl:     <http://www.w3.org/2002/07/owl#> .\\n@prefix rdf:     <http://www.w3.org/1999/02/22-rdf-syntax-ns#> .\\n@prefix rdfs:    <http://www.w3.org/2000/01/rdf-schema#> .\\n@prefix schema:  <http://schema.org/> .\\n@prefix sd:      <https://w3id.org/okn/o/sd#> .\\n@prefix sh:      <http://www.w3.org/ns/shacl#> .\\n@prefix shsh:    <http://www.w3.org/ns/shacl-shacl#> .\\n@prefix skos:    <http://www.w3.org/2004/02/skos/core#> .\\n@prefix spe:     <https://openschemas.github.io/spec-container/specifications/> .\\n@prefix swa:     <http://topbraid.org/swa#> .\\n@prefix tosh:    <http://topbraid.org/tosh#> .\\n@prefix xsd:     <http://www.w3.org/2001/XMLSchema#> .\\n\\n[ rdf:type     sh:ValidationReport ;\\n  sh:conforms  false ;\\n  sh:result    [ rdf:type                      sh:ValidationResult ;\\n                 sh:focusNode                  :ValidSubmission ;\\n                 sh:resultMessage              \"Value must be a valid literal of type string\" ;\\n                 sh:resultPath                 schema:citation ;\\n                 sh:resultSeverity             sh:Violation ;\\n                 sh:sourceConstraintComponent  sh:DatatypeConstraintComponent ;\\n                 sh:sourceShape                schema:CreativeWork-citation ;\\n                 sh:value                      <https://en.wikipedia.org/wiki/Optical_flow>\\n               ] ;\\n  sh:result    [ rdf:type                      sh:ValidationResult ;\\n                 sh:focusNode                  :ValidSubmission ;\\n                 sh:resultMessage              \"Property needs to have at least 1 value\" ;\\n                 sh:resultPath                 schema:license ;\\n                 sh:resultSeverity             sh:Violation ;\\n                 sh:sourceConstraintComponent  sh:MinCountConstraintComponent ;\\n                 sh:sourceShape                schema:CreativeWork-license\\n               ] ;\\n  sh:result    [ rdf:type                      sh:ValidationResult ;\\n                 sh:focusNode                  :ValidSubmission ;\\n                 sh:resultMessage              \"Value must be a valid literal of type string\" ;\\n                 sh:resultPath                 sd:hasAcknowledgements ;\\n                 sh:resultSeverity             sh:Violation ;\\n                 sh:sourceConstraintComponent  sh:DatatypeConstraintComponent ;\\n                 sh:sourceShape                sd:SoftwareApplication-hasAcknowledgements ;\\n                 sh:value                      1234\\n               ] ;\\n  sh:result    [ rdf:type                      sh:ValidationResult ;\\n                 sh:focusNode                  :ValidSubmission ;\\n                 sh:resultMessage              \"Value does not have node kind IRI\" ;\\n                 sh:resultPath                 schema:url ;\\n                 sh:resultSeverity             sh:Violation ;\\n                 sh:sourceConstraintComponent  sh:NodeKindConstraintComponent ;\\n                 sh:sourceShape                schema:Thing-url ;\\n                 sh:value                      \"not a url\"\\n               ] ;\\n  sh:result    [ rdf:type                      sh:ValidationResult ;\\n                 sh:focusNode                  :ValidSubmission ;\\n                 sh:resultMessage              \"Property needs to have at least 1 value\" ;\\n                 sh:resultPath                 ex:fairLevel ;\\n                 sh:resultSeverity             sh:Violation ;\\n                 sh:sourceConstraintComponent  sh:MinCountConstraintComponent ;\\n                 sh:sourceShape                ex:fairLevelShape\\n               ] ;\\n  sh:result    [ rdf:type                      sh:ValidationResult ;\\n                 sh:focusNode                  :ValidSubmission ;\\n                 sh:resultMessage              \"Not a value from the sh:in enumeration\" ;\\n                 sh:resultPath                 ex:imagingModality ;\\n                 sh:resultSeverity             sh:Violation ;\\n                 sh:sourceConstraintComponent  sh:InConstraintComponent ;\\n                 sh:sourceShape                ex:SoftwareApplication-imagingModalityShape ;\\n                 sh:value                      \"RGB\"\\n               ] ;\\n  sh:result    [ rdf:type                      sh:ValidationResult ;\\n                 sh:focusNode                  :ValidSubmission ;\\n                 sh:resultMessage              \"Value does not match pattern \\\\\"(/^10\\\\\\\\.\\\\\\\\d{4,9}[-._;()/:A-Z0-9]+$/i)\\\\\"\" ;\\n                 sh:resultPath                 schema:citation ;\\n                 sh:resultSeverity             sh:Violation ;\\n                 sh:sourceConstraintComponent  sh:PatternConstraintComponent ;\\n                 sh:sourceShape                schema:CreativeWork-citation ;\\n                 sh:value                      <https://en.wikipedia.org/wiki/Optical_flow>\\n               ] ;\\n  sh:result    [ rdf:type                      sh:ValidationResult ;\\n                 sh:focusNode                  :ValidSubmission ;\\n                 sh:resultMessage              \"Value must have at least one of the following shapes: _:77900d23b482b472aab91a9f23bbf8c0, _:f170912fe243ca1029e321e337b02caf\" ;\\n                 sh:resultPath                 schema:image ;\\n                 sh:resultSeverity             sh:Violation ;\\n                 sh:sourceConstraintComponent  sh:OrConstraintComponent ;\\n                 sh:sourceShape                schema:Thing-image ;\\n                 sh:value                      \"https://gricad-gitlab.univ-grenoble-alpes.fr/uploads/-/system/project/avatar/64/logo.png?width=64\"\\n               ]\\n] .\\n'"
      ]
     },
     "execution_count": 70,
     "metadata": {},
     "output_type": "execute_result"
    }
   ],
   "source": [
    "# Requests\n",
    "\n",
    "import requests \n",
    "import base64\n",
    "\n",
    "# with open('../tests/tests-files/val_imagingID.ttl', 'r') as file:\n",
    "#     datafile = file.read().rstrip()\n",
    "\n",
    "# with open('../tests/tests-files/val_ImagingOntologyShapes.ttl', 'r') as file:\n",
    "#     shapesfile = file.read().rstrip()\n",
    "\n",
    "# datafile64 = base64.b64encode(bytes(datafile, 'utf-8')) #, encoding='ascii')\n",
    "# shapesfile64 = base64.b64encode(bytes(shapesfile, 'utf-8'))#, encoding='ascii')\n",
    "\n",
    "with open('../tests/tests-files/val_imagingID.ttl', 'rb') as file:\n",
    "    datafile = file.read()\n",
    "\n",
    "with open('../tests/tests-files/val_ImagingOntologyShapes.ttl', 'rb') as file:\n",
    "    shapesfile = file.read()\n",
    "\n",
    "datafile64 = base64.b64encode(datafile) \n",
    "shapesfile64 = base64.b64encode(shapesfile)\n",
    "\n",
    "print(type(datafile64))\n",
    "\n",
    "payload = {\"datafile\": datafile64,\n",
    "           \"shapesfile\": shapesfile64}\n",
    "\n",
    "url = \"http://127.0.0.1:8000/validate\"\n",
    "r = requests.post(url, data=payload)\n",
    "\n",
    "r.json()[\"output\"]"
   ]
  },
  {
   "cell_type": "code",
   "execution_count": 59,
   "metadata": {},
   "outputs": [
    {
     "data": {
      "text/plain": [
       "'\"Hola\"'"
      ]
     },
     "execution_count": 59,
     "metadata": {},
     "output_type": "execute_result"
    }
   ],
   "source": [
    "url = \"http://127.0.0.1:8000/validate\"\n",
    "r = requests.post(url, data={\"datafile\":\"Hola\", \"shapesfile\": \"hola\"})\n",
    "r.text"
   ]
  }
 ],
 "metadata": {
  "kernelspec": {
   "display_name": "base",
   "language": "python",
   "name": "python3"
  },
  "language_info": {
   "codemirror_mode": {
    "name": "ipython",
    "version": 3
   },
   "file_extension": ".py",
   "mimetype": "text/x-python",
   "name": "python",
   "nbconvert_exporter": "python",
   "pygments_lexer": "ipython3",
   "version": "3.9.13"
  },
  "orig_nbformat": 4
 },
 "nbformat": 4,
 "nbformat_minor": 2
}
