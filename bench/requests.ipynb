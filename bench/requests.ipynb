{
 "cells": [
  {
   "cell_type": "code",
   "execution_count": 70,
   "metadata": {},
   "outputs": [
    {
     "name": "stdout",
     "output_type": "stream",
     "text": [
      "<class 'bytes'>\n"
     ]
    },
    {
     "data": {
      "text/plain": [
       "'@prefix :        <https://epfl.ch/example/> .\\n@prefix bio:     <https://bioschemas.org/> .\\n@prefix dash:    <http://datashapes.org/dash#> .\\n@prefix dcterms: <http://purl.org/dc/terms/> .\\n@prefix ex:      <http://example.com/ns#> .\\n@prefix graphql: <http://datashapes.org/graphql#> .\\n@prefix md4i:    <http://w3id.org/nfdi4ing/metadata4ing#> .\\n@prefix owl:     <http://www.w3.org/2002/07/owl#> .\\n@prefix rdf:     <http://www.w3.org/1999/02/22-rdf-syntax-ns#> .\\n@prefix rdfs:    <http://www.w3.org/2000/01/rdf-schema#> .\\n@prefix schema:  <http://schema.org/> .\\n@prefix sd:      <https://w3id.org/okn/o/sd#> .\\n@prefix sh:      <http://www.w3.org/ns/shacl#> .\\n@prefix shsh:    <http://www.w3.org/ns/shacl-shacl#> .\\n@prefix skos:    <http://www.w3.org/2004/02/skos/core#> .\\n@prefix spe:     <https://openschemas.github.io/spec-container/specifications/> .\\n@prefix swa:     <http://topbraid.org/swa#> .\\n@prefix tosh:    <http://topbraid.org/tosh#> .\\n@prefix xsd:     <http://www.w3.org/2001/XMLSchema#> .\\n\\n[ rdf:type     sh:ValidationReport ;\\n  sh:conforms  false ;\\n  sh:result    [ rdf:type                      sh:ValidationResult ;\\n                 sh:focusNode                  :ValidSubmission ;\\n                 sh:resultMessage              \"Value must be a valid literal of type string\" ;\\n                 sh:resultPath                 schema:citation ;\\n                 sh:resultSeverity             sh:Violation ;\\n                 sh:sourceConstraintComponent  sh:DatatypeConstraintComponent ;\\n                 sh:sourceShape                schema:CreativeWork-citation ;\\n                 sh:value                      <https://en.wikipedia.org/wiki/Optical_flow>\\n               ] ;\\n  sh:result    [ rdf:type                      sh:ValidationResult ;\\n                 sh:focusNode                  :ValidSubmission ;\\n                 sh:resultMessage              \"Property needs to have at least 1 value\" ;\\n                 sh:resultPath                 schema:license ;\\n                 sh:resultSeverity             sh:Violation ;\\n                 sh:sourceConstraintComponent  sh:MinCountConstraintComponent ;\\n                 sh:sourceShape                schema:CreativeWork-license\\n               ] ;\\n  sh:result    [ rdf:type                      sh:ValidationResult ;\\n                 sh:focusNode                  :ValidSubmission ;\\n                 sh:resultMessage              \"Value must be a valid literal of type string\" ;\\n                 sh:resultPath                 sd:hasAcknowledgements ;\\n                 sh:resultSeverity             sh:Violation ;\\n                 sh:sourceConstraintComponent  sh:DatatypeConstraintComponent ;\\n                 sh:sourceShape                sd:SoftwareApplication-hasAcknowledgements ;\\n                 sh:value                      1234\\n               ] ;\\n  sh:result    [ rdf:type                      sh:ValidationResult ;\\n                 sh:focusNode                  :ValidSubmission ;\\n                 sh:resultMessage              \"Value does not have node kind IRI\" ;\\n                 sh:resultPath                 schema:url ;\\n                 sh:resultSeverity             sh:Violation ;\\n                 sh:sourceConstraintComponent  sh:NodeKindConstraintComponent ;\\n                 sh:sourceShape                schema:Thing-url ;\\n                 sh:value                      \"not a url\"\\n               ] ;\\n  sh:result    [ rdf:type                      sh:ValidationResult ;\\n                 sh:focusNode                  :ValidSubmission ;\\n                 sh:resultMessage              \"Property needs to have at least 1 value\" ;\\n                 sh:resultPath                 ex:fairLevel ;\\n                 sh:resultSeverity             sh:Violation ;\\n                 sh:sourceConstraintComponent  sh:MinCountConstraintComponent ;\\n                 sh:sourceShape                ex:fairLevelShape\\n               ] ;\\n  sh:result    [ rdf:type                      sh:ValidationResult ;\\n                 sh:focusNode                  :ValidSubmission ;\\n                 sh:resultMessage              \"Not a value from the sh:in enumeration\" ;\\n                 sh:resultPath                 ex:imagingModality ;\\n                 sh:resultSeverity             sh:Violation ;\\n                 sh:sourceConstraintComponent  sh:InConstraintComponent ;\\n                 sh:sourceShape                ex:SoftwareApplication-imagingModalityShape ;\\n                 sh:value                      \"RGB\"\\n               ] ;\\n  sh:result    [ rdf:type                      sh:ValidationResult ;\\n                 sh:focusNode                  :ValidSubmission ;\\n                 sh:resultMessage              \"Value does not match pattern \\\\\"(/^10\\\\\\\\.\\\\\\\\d{4,9}[-._;()/:A-Z0-9]+$/i)\\\\\"\" ;\\n                 sh:resultPath                 schema:citation ;\\n                 sh:resultSeverity             sh:Violation ;\\n                 sh:sourceConstraintComponent  sh:PatternConstraintComponent ;\\n                 sh:sourceShape                schema:CreativeWork-citation ;\\n                 sh:value                      <https://en.wikipedia.org/wiki/Optical_flow>\\n               ] ;\\n  sh:result    [ rdf:type                      sh:ValidationResult ;\\n                 sh:focusNode                  :ValidSubmission ;\\n                 sh:resultMessage              \"Value must have at least one of the following shapes: _:77900d23b482b472aab91a9f23bbf8c0, _:f170912fe243ca1029e321e337b02caf\" ;\\n                 sh:resultPath                 schema:image ;\\n                 sh:resultSeverity             sh:Violation ;\\n                 sh:sourceConstraintComponent  sh:OrConstraintComponent ;\\n                 sh:sourceShape                schema:Thing-image ;\\n                 sh:value                      \"https://gricad-gitlab.univ-grenoble-alpes.fr/uploads/-/system/project/avatar/64/logo.png?width=64\"\\n               ]\\n] .\\n'"
      ]
     },
     "execution_count": 70,
     "metadata": {},
     "output_type": "execute_result"
    }
   ],
   "source": [
    "# Requests\n",
    "\n",
    "import requests \n",
    "import base64\n",
    "\n",
    "# with open('../tests/tests-files/val_imagingID.ttl', 'r') as file:\n",
    "#     datafile = file.read().rstrip()\n",
    "\n",
    "# with open('../tests/tests-files/val_ImagingOntologyShapes.ttl', 'r') as file:\n",
    "#     shapesfile = file.read().rstrip()\n",
    "\n",
    "# datafile64 = base64.b64encode(bytes(datafile, 'utf-8')) #, encoding='ascii')\n",
    "# shapesfile64 = base64.b64encode(bytes(shapesfile, 'utf-8'))#, encoding='ascii')\n",
    "\n",
    "with open('../tests/tests-files/val_imagingID.ttl', 'rb') as file:\n",
    "    datafile = file.read()\n",
    "\n",
    "with open('../tests/tests-files/val_ImagingOntologyShapes.ttl', 'rb') as file:\n",
    "    shapesfile = file.read()\n",
    "\n",
    "datafile64 = base64.b64encode(datafile) \n",
    "shapesfile64 = base64.b64encode(shapesfile)\n",
    "\n",
    "print(type(datafile64))\n",
    "\n",
    "payload = {\"datafile\": datafile64,\n",
    "           \"shapesfile\": shapesfile64}\n",
    "\n",
    "url = \"http://127.0.0.1:8000/validate\"\n",
    "r = requests.post(url, data=payload)\n",
    "\n",
    "r.json()[\"output\"]"
   ]
  },
  {
   "cell_type": "code",
   "execution_count": 59,
   "metadata": {},
   "outputs": [
    {
     "data": {
      "text/plain": [
       "'\"Hola\"'"
      ]
     },
     "execution_count": 59,
     "metadata": {},
     "output_type": "execute_result"
    }
   ],
   "source": [
    "url = \"http://127.0.0.1:8000/validate\"\n",
    "r = requests.post(url, data={\"datafile\":\"Hola\", \"shapesfile\": \"hola\"})\n",
    "r.text"
   ]
  },
  {
   "attachments": {},
   "cell_type": "markdown",
   "metadata": {},
   "source": [
    "# Perform a request with json-ld"
   ]
  },
  {
   "cell_type": "code",
   "execution_count": 7,
   "metadata": {},
   "outputs": [
    {
     "ename": "JSONDecodeError",
     "evalue": "Expecting value: line 1 column 1 (char 0)",
     "output_type": "error",
     "traceback": [
      "\u001b[0;31m---------------------------------------------------------------------------\u001b[0m",
      "\u001b[0;31mJSONDecodeError\u001b[0m                           Traceback (most recent call last)",
      "\u001b[0;32m~/opt/anaconda3/lib/python3.9/site-packages/requests/models.py\u001b[0m in \u001b[0;36mjson\u001b[0;34m(self, **kwargs)\u001b[0m\n\u001b[1;32m    970\u001b[0m         \u001b[0;32mtry\u001b[0m\u001b[0;34m:\u001b[0m\u001b[0;34m\u001b[0m\u001b[0;34m\u001b[0m\u001b[0m\n\u001b[0;32m--> 971\u001b[0;31m             \u001b[0;32mreturn\u001b[0m \u001b[0mcomplexjson\u001b[0m\u001b[0;34m.\u001b[0m\u001b[0mloads\u001b[0m\u001b[0;34m(\u001b[0m\u001b[0mself\u001b[0m\u001b[0;34m.\u001b[0m\u001b[0mtext\u001b[0m\u001b[0;34m,\u001b[0m \u001b[0;34m**\u001b[0m\u001b[0mkwargs\u001b[0m\u001b[0;34m)\u001b[0m\u001b[0;34m\u001b[0m\u001b[0;34m\u001b[0m\u001b[0m\n\u001b[0m\u001b[1;32m    972\u001b[0m         \u001b[0;32mexcept\u001b[0m \u001b[0mJSONDecodeError\u001b[0m \u001b[0;32mas\u001b[0m \u001b[0me\u001b[0m\u001b[0;34m:\u001b[0m\u001b[0;34m\u001b[0m\u001b[0;34m\u001b[0m\u001b[0m\n",
      "\u001b[0;32m~/opt/anaconda3/lib/python3.9/json/__init__.py\u001b[0m in \u001b[0;36mloads\u001b[0;34m(s, cls, object_hook, parse_float, parse_int, parse_constant, object_pairs_hook, **kw)\u001b[0m\n\u001b[1;32m    345\u001b[0m             parse_constant is None and object_pairs_hook is None and not kw):\n\u001b[0;32m--> 346\u001b[0;31m         \u001b[0;32mreturn\u001b[0m \u001b[0m_default_decoder\u001b[0m\u001b[0;34m.\u001b[0m\u001b[0mdecode\u001b[0m\u001b[0;34m(\u001b[0m\u001b[0ms\u001b[0m\u001b[0;34m)\u001b[0m\u001b[0;34m\u001b[0m\u001b[0;34m\u001b[0m\u001b[0m\n\u001b[0m\u001b[1;32m    347\u001b[0m     \u001b[0;32mif\u001b[0m \u001b[0mcls\u001b[0m \u001b[0;32mis\u001b[0m \u001b[0;32mNone\u001b[0m\u001b[0;34m:\u001b[0m\u001b[0;34m\u001b[0m\u001b[0;34m\u001b[0m\u001b[0m\n",
      "\u001b[0;32m~/opt/anaconda3/lib/python3.9/json/decoder.py\u001b[0m in \u001b[0;36mdecode\u001b[0;34m(self, s, _w)\u001b[0m\n\u001b[1;32m    336\u001b[0m         \"\"\"\n\u001b[0;32m--> 337\u001b[0;31m         \u001b[0mobj\u001b[0m\u001b[0;34m,\u001b[0m \u001b[0mend\u001b[0m \u001b[0;34m=\u001b[0m \u001b[0mself\u001b[0m\u001b[0;34m.\u001b[0m\u001b[0mraw_decode\u001b[0m\u001b[0;34m(\u001b[0m\u001b[0ms\u001b[0m\u001b[0;34m,\u001b[0m \u001b[0midx\u001b[0m\u001b[0;34m=\u001b[0m\u001b[0m_w\u001b[0m\u001b[0;34m(\u001b[0m\u001b[0ms\u001b[0m\u001b[0;34m,\u001b[0m \u001b[0;36m0\u001b[0m\u001b[0;34m)\u001b[0m\u001b[0;34m.\u001b[0m\u001b[0mend\u001b[0m\u001b[0;34m(\u001b[0m\u001b[0;34m)\u001b[0m\u001b[0;34m)\u001b[0m\u001b[0;34m\u001b[0m\u001b[0;34m\u001b[0m\u001b[0m\n\u001b[0m\u001b[1;32m    338\u001b[0m         \u001b[0mend\u001b[0m \u001b[0;34m=\u001b[0m \u001b[0m_w\u001b[0m\u001b[0;34m(\u001b[0m\u001b[0ms\u001b[0m\u001b[0;34m,\u001b[0m \u001b[0mend\u001b[0m\u001b[0;34m)\u001b[0m\u001b[0;34m.\u001b[0m\u001b[0mend\u001b[0m\u001b[0;34m(\u001b[0m\u001b[0;34m)\u001b[0m\u001b[0;34m\u001b[0m\u001b[0;34m\u001b[0m\u001b[0m\n",
      "\u001b[0;32m~/opt/anaconda3/lib/python3.9/json/decoder.py\u001b[0m in \u001b[0;36mraw_decode\u001b[0;34m(self, s, idx)\u001b[0m\n\u001b[1;32m    354\u001b[0m         \u001b[0;32mexcept\u001b[0m \u001b[0mStopIteration\u001b[0m \u001b[0;32mas\u001b[0m \u001b[0merr\u001b[0m\u001b[0;34m:\u001b[0m\u001b[0;34m\u001b[0m\u001b[0;34m\u001b[0m\u001b[0m\n\u001b[0;32m--> 355\u001b[0;31m             \u001b[0;32mraise\u001b[0m \u001b[0mJSONDecodeError\u001b[0m\u001b[0;34m(\u001b[0m\u001b[0;34m\"Expecting value\"\u001b[0m\u001b[0;34m,\u001b[0m \u001b[0ms\u001b[0m\u001b[0;34m,\u001b[0m \u001b[0merr\u001b[0m\u001b[0;34m.\u001b[0m\u001b[0mvalue\u001b[0m\u001b[0;34m)\u001b[0m \u001b[0;32mfrom\u001b[0m \u001b[0;32mNone\u001b[0m\u001b[0;34m\u001b[0m\u001b[0;34m\u001b[0m\u001b[0m\n\u001b[0m\u001b[1;32m    356\u001b[0m         \u001b[0;32mreturn\u001b[0m \u001b[0mobj\u001b[0m\u001b[0;34m,\u001b[0m \u001b[0mend\u001b[0m\u001b[0;34m\u001b[0m\u001b[0;34m\u001b[0m\u001b[0m\n",
      "\u001b[0;31mJSONDecodeError\u001b[0m: Expecting value: line 1 column 1 (char 0)",
      "\nDuring handling of the above exception, another exception occurred:\n",
      "\u001b[0;31mJSONDecodeError\u001b[0m                           Traceback (most recent call last)",
      "\u001b[0;32m/var/folders/g1/qfh3n5cj6nzbnvv5pb0phtcr0000gp/T/ipykernel_53105/2875996913.py\u001b[0m in \u001b[0;36m<module>\u001b[0;34m\u001b[0m\n\u001b[1;32m     93\u001b[0m \u001b[0mr\u001b[0m \u001b[0;34m=\u001b[0m \u001b[0mrequests\u001b[0m\u001b[0;34m.\u001b[0m\u001b[0mpost\u001b[0m\u001b[0;34m(\u001b[0m\u001b[0murl\u001b[0m\u001b[0;34m,\u001b[0m \u001b[0mjson\u001b[0m\u001b[0;34m=\u001b[0m\u001b[0mpayload\u001b[0m\u001b[0;34m)\u001b[0m\u001b[0;34m\u001b[0m\u001b[0;34m\u001b[0m\u001b[0m\n\u001b[1;32m     94\u001b[0m \u001b[0;34m\u001b[0m\u001b[0m\n\u001b[0;32m---> 95\u001b[0;31m \u001b[0mr\u001b[0m\u001b[0;34m.\u001b[0m\u001b[0mjson\u001b[0m\u001b[0;34m(\u001b[0m\u001b[0;34m)\u001b[0m\u001b[0;34m[\u001b[0m\u001b[0;34m\"output\"\u001b[0m\u001b[0;34m]\u001b[0m\u001b[0;34m\u001b[0m\u001b[0;34m\u001b[0m\u001b[0m\n\u001b[0m",
      "\u001b[0;32m~/opt/anaconda3/lib/python3.9/site-packages/requests/models.py\u001b[0m in \u001b[0;36mjson\u001b[0;34m(self, **kwargs)\u001b[0m\n\u001b[1;32m    973\u001b[0m             \u001b[0;31m# Catch JSON-related errors and raise as requests.JSONDecodeError\u001b[0m\u001b[0;34m\u001b[0m\u001b[0;34m\u001b[0m\u001b[0m\n\u001b[1;32m    974\u001b[0m             \u001b[0;31m# This aliases json.JSONDecodeError and simplejson.JSONDecodeError\u001b[0m\u001b[0;34m\u001b[0m\u001b[0;34m\u001b[0m\u001b[0m\n\u001b[0;32m--> 975\u001b[0;31m             \u001b[0;32mraise\u001b[0m \u001b[0mRequestsJSONDecodeError\u001b[0m\u001b[0;34m(\u001b[0m\u001b[0me\u001b[0m\u001b[0;34m.\u001b[0m\u001b[0mmsg\u001b[0m\u001b[0;34m,\u001b[0m \u001b[0me\u001b[0m\u001b[0;34m.\u001b[0m\u001b[0mdoc\u001b[0m\u001b[0;34m,\u001b[0m \u001b[0me\u001b[0m\u001b[0;34m.\u001b[0m\u001b[0mpos\u001b[0m\u001b[0;34m)\u001b[0m\u001b[0;34m\u001b[0m\u001b[0;34m\u001b[0m\u001b[0m\n\u001b[0m\u001b[1;32m    976\u001b[0m \u001b[0;34m\u001b[0m\u001b[0m\n\u001b[1;32m    977\u001b[0m     \u001b[0;34m@\u001b[0m\u001b[0mproperty\u001b[0m\u001b[0;34m\u001b[0m\u001b[0;34m\u001b[0m\u001b[0m\n",
      "\u001b[0;31mJSONDecodeError\u001b[0m: Expecting value: line 1 column 1 (char 0)"
     ]
    }
   ],
   "source": [
    "jsonld = \"\"\"\n",
    "{\n",
    "  \"@context\": {\n",
    "    \"schema\": \"http://schema.org/\",\n",
    "    \"ex\": \"http://example.com/\",\n",
    "    \"sd\": \"https://example.org/standard/\",\n",
    "    \"md4i\": \"https://example.org/md4i/\",\n",
    "    \"bio\": \"https://bioschemas.org/\"\n",
    "  },\n",
    "  \"@type\": \"schema:SoftwareApplication\",\n",
    "  \"schema:applicationCategory\": \"test\",\n",
    "  \"schema:citation\": \"test\",\n",
    "  \"schema:codeRepository\": \"test\",\n",
    "  \"schema:conditionsOfAccess\": \"test\",\n",
    "  \"schema:dateCreated\": \"2016-06-01T14:41:36-08:00\",\n",
    "  \"schema:datePublished\": \"2016-06-01T14:41:36-08:00\",\n",
    "  \"schema:description\": \"test\",\n",
    "  \"schema:featureList\": \"test\",\n",
    "  \"schema:image\": {\n",
    "    \"@type\": \"schema:ImageObject\",\n",
    "    \"schema:uri\": \"http://example.com\",\n",
    "    \"schema:keywords\": \"logo\"\n",
    "  },\n",
    "  \"schema:isAccessibleForFree\": true,\n",
    "  \"schema:isBasedOn\": \"test\",\n",
    "  \"schema:license\": \"test\",\n",
    "  \"schema:maintainer\": {\n",
    "    \"@type\": \"schema:Person\",\n",
    "    \"schema:familyName\": \"ttt\",\n",
    "    \"schema:givenName\": \"yyyyy\",\n",
    "    \"schema:legalName\": \"xxxx\"\n",
    "  },\n",
    "  \"schema:name\": \"test\",\n",
    "  \"schema:operatingSystem\": \"test\",\n",
    "  \"schema:producer\": {\n",
    "    \"@type\": \"schema:Person\",\n",
    "    \"schema:familyName\": \"ttt\",\n",
    "    \"schema:givenName\": \"yyyyy\",\n",
    "    \"schema:legalName\": \"xxxx\"\n",
    "  },\n",
    "  \"schema:programmingLanguage\": \"test\",\n",
    "  \"schema:softwareRequirements\": \"test\",\n",
    "  \"schema:processorRequirements\": \"test\",\n",
    "  \"schema:memoryRequirements\": \"test\",\n",
    "  \"ex:requiresGPU\": false,\n",
    "  \"schema:softwareVersion\": \"test\",\n",
    "  \"schema:supportingData\": {\n",
    "    \"@type\": \"schema:DataFeed\",\n",
    "    \"schema:contentURL\": \"ttt\",\n",
    "    \"schema:description\": \"tdeu\",\n",
    "    \"schema:name\": \"name\"\n",
    "  },\n",
    "  \"schema:status\": \"test\",\n",
    "  \"schema:url\": \"test\",\n",
    "  \"schema:identifier\": \"test\",\n",
    "  \"sd:hasAcknowledgements\": \"test\",\n",
    "  \"sd:hasDocumentation\": \"test\",\n",
    "  \"sd:hasExecutableInstructions\": \"test\",\n",
    "  \"sd:hasExecutableNotebook\": \"test\",\n",
    "  \"sd:hasInput\": {\n",
    "    \"@type\": \"sd:DatasetSpecification\",\n",
    "    \"sd:hasDimensionality\": 3\n",
    "  },\n",
    "  \"sd:hasOutput\": {\n",
    "    \"@type\": \"sd:DatasetSpecification\",\n",
    "    \"sd:hasDimensionality\": 3\n",
    "  },\n",
    "  \"sd:hasParameter\": {\n",
    "    \"@type\": \"bio:FormalParameter\",\n",
    "    \"schema:description\": \"ttt\",\n",
    "    \"schema:name\": \"yyyy\",\n",
    "    \"sd:hasDimensionality\": 3\n",
    "  },\n",
    "  \"sd:readme\": \"test\",\n",
    "  \"sd:hasFunding\": {\n",
    "    \"@type\": \"sd:FundingInformation\",\n",
    "    \"schema:identifier\": \"ttt\",\n",
    "    \"schema:sponsor\": {\n",
    "      \"@type\": \"schema:Person\",\n",
    "      \"schema:familyName\": \"ttt\",\n",
    "      \"schema:givenName\": \"yyyyy\",\n",
    "      \"schema:legalName\": \"xxxx\"\n",
    "    },\n",
    "    \"sd:fundingGrant\": \"eeee\"}}\n",
    "\"\"\"\n",
    "\n",
    "import requests\n",
    "\n",
    "payload = {\"data\": jsonld}\n",
    "\n",
    "#url = \"http://imagingplazadev:7200/validate-jsonld\"\n",
    "url = \"http://127.0.0.1:7200/validate-jsonld\"\n",
    "r = requests.post(url, data=payload)\n",
    "\n",
    "r.json()[\"output\"]"
   ]
  }
 ],
 "metadata": {
  "kernelspec": {
   "display_name": "base",
   "language": "python",
   "name": "python3"
  },
  "language_info": {
   "codemirror_mode": {
    "name": "ipython",
    "version": 3
   },
   "file_extension": ".py",
   "mimetype": "text/x-python",
   "name": "python",
   "nbconvert_exporter": "python",
   "pygments_lexer": "ipython3",
   "version": "3.9.13"
  },
  "orig_nbformat": 4
 },
 "nbformat": 4,
 "nbformat_minor": 2
}
