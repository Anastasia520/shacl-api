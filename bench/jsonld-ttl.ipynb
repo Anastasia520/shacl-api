{
 "cells": [
  {
   "cell_type": "code",
   "execution_count": 2,
   "metadata": {},
   "outputs": [],
   "source": [
    "# How to turn JSONLD into TTL\n",
    "from rdflib import Graph"
   ]
  },
  {
   "cell_type": "code",
   "execution_count": 17,
   "metadata": {},
   "outputs": [],
   "source": [
    "jsonld = \"\"\"\n",
    "{\n",
    "  \"@context\": {\n",
    "    \"schema\": \"http://schema.org/\",\n",
    "    \"ex\": \"http://example.com/\",\n",
    "    \"sd\": \"https://example.org/standard/\",\n",
    "    \"md4i\": \"https://example.org/md4i/\",\n",
    "    \"bio\": \"https://bioschemas.org/\"\n",
    "  },\n",
    "  \"@type\": \"schema:SoftwareApplication\",\n",
    "  \"schema:applicationCategory\": \"test\",\n",
    "  \"schema:citation\": \"test\",\n",
    "  \"schema:codeRepository\": \"test\",\n",
    "  \"schema:conditionsOfAccess\": \"test\",\n",
    "  \"schema:dateCreated\": \"2016-06-01T14:41:36-08:00\",\n",
    "  \"schema:datePublished\": \"2016-06-01T14:41:36-08:00\",\n",
    "  \"schema:description\": \"test\",\n",
    "  \"schema:featureList\": \"test\",\n",
    "  \"schema:image\": {\n",
    "    \"@type\": \"schema:ImageObject\",\n",
    "    \"schema:uri\": \"http://example.com\",\n",
    "    \"schema:keywords\": \"logo\"\n",
    "  },\n",
    "  \"schema:isAccessibleForFree\": true,\n",
    "  \"schema:isBasedOn\": \"test\",\n",
    "  \"schema:license\": \"test\",\n",
    "  \"schema:maintainer\": {\n",
    "    \"@type\": \"schema:Person\",\n",
    "    \"schema:familyName\": \"ttt\",\n",
    "    \"schema:givenName\": \"yyyyy\",\n",
    "    \"schema:legalName\": \"xxxx\"\n",
    "  },\n",
    "  \"schema:name\": \"test\",\n",
    "  \"schema:operatingSystem\": \"test\",\n",
    "  \"schema:producer\": {\n",
    "    \"@type\": \"schema:Person\",\n",
    "    \"schema:familyName\": \"ttt\",\n",
    "    \"schema:givenName\": \"yyyyy\",\n",
    "    \"schema:legalName\": \"xxxx\"\n",
    "  },\n",
    "  \"schema:programmingLanguage\": \"test\",\n",
    "  \"schema:softwareRequirements\": \"test\",\n",
    "  \"schema:processorRequirements\": \"test\",\n",
    "  \"schema:memoryRequirements\": \"test\",\n",
    "  \"ex:requiresGPU\": false,\n",
    "  \"schema:softwareVersion\": \"test\",\n",
    "  \"schema:supportingData\": {\n",
    "    \"@type\": \"schema:DataFeed\",\n",
    "    \"schema:contentURL\": \"ttt\",\n",
    "    \"schema:description\": \"tdeu\",\n",
    "    \"schema:name\": \"name\"\n",
    "  },\n",
    "  \"schema:status\": \"test\",\n",
    "  \"schema:url\": \"test\",\n",
    "  \"schema:identifier\": \"test\",\n",
    "  \"sd:hasAcknowledgements\": \"test\",\n",
    "  \"sd:hasDocumentation\": \"test\",\n",
    "  \"sd:hasExecutableInstructions\": \"test\",\n",
    "  \"sd:hasExecutableNotebook\": \"test\",\n",
    "  \"sd:hasInput\": {\n",
    "    \"@type\": \"sd:DatasetSpecification\",\n",
    "    \"sd:hasDimensionality\": 3\n",
    "  },\n",
    "  \"sd:hasOutput\": {\n",
    "    \"@type\": \"sd:DatasetSpecification\",\n",
    "    \"sd:hasDimensionality\": 3\n",
    "  },\n",
    "  \"sd:hasParameter\": {\n",
    "    \"@type\": \"bio:FormalParameter\",\n",
    "    \"schema:description\": \"ttt\",\n",
    "    \"schema:name\": \"yyyy\",\n",
    "    \"sd:hasDimensionality\": 3\n",
    "  },\n",
    "  \"sd:readme\": \"test\",\n",
    "  \"sd:hasFunding\": {\n",
    "    \"@type\": \"sd:FundingInformation\",\n",
    "    \"schema:identifier\": \"ttt\",\n",
    "    \"schema:sponsor\": {\n",
    "      \"@type\": \"schema:Person\",\n",
    "      \"schema:familyName\": \"ttt\",\n",
    "      \"schema:givenName\": \"yyyyy\",\n",
    "      \"schema:legalName\": \"xxxx\"\n",
    "    },\n",
    "    \"sd:fundingGrant\": \"eeee\"}}\n",
    "\"\"\""
   ]
  },
  {
   "cell_type": "code",
   "execution_count": 18,
   "metadata": {},
   "outputs": [
    {
     "data": {
      "text/plain": [
       "<Graph identifier=Nd96f9db4ac644720ade32d0604df31fe (<class 'rdflib.graph.Graph'>)>"
      ]
     },
     "execution_count": 18,
     "metadata": {},
     "output_type": "execute_result"
    }
   ],
   "source": [
    "graph = Graph()\n",
    "graph.parse(data=jsonld, format='json-ld')\n"
   ]
  },
  {
   "cell_type": "code",
   "execution_count": 19,
   "metadata": {},
   "outputs": [],
   "source": [
    "from rdflib.namespace import Namespace, NamespaceManager\n",
    "SCHEMA = Namespace(\"http://schema.org/\")\n",
    "graph.namespace_manager.bind('schema', SCHEMA, override=True, replace=True)"
   ]
  },
  {
   "cell_type": "code",
   "execution_count": 20,
   "metadata": {},
   "outputs": [
    {
     "data": {
      "text/plain": [
       "<Graph identifier=Nd96f9db4ac644720ade32d0604df31fe (<class 'rdflib.graph.Graph'>)>"
      ]
     },
     "execution_count": 20,
     "metadata": {},
     "output_type": "execute_result"
    }
   ],
   "source": [
    "#output file name and file format here\n",
    "graph.serialize(destination='example.ttl',format='turtle')"
   ]
  }
 ],
 "metadata": {
  "kernelspec": {
   "display_name": "kglab",
   "language": "python",
   "name": "python3"
  },
  "language_info": {
   "codemirror_mode": {
    "name": "ipython",
    "version": 3
   },
   "file_extension": ".py",
   "mimetype": "text/x-python",
   "name": "python",
   "nbconvert_exporter": "python",
   "pygments_lexer": "ipython3",
   "version": "3.11.3"
  },
  "orig_nbformat": 4
 },
 "nbformat": 4,
 "nbformat_minor": 2
}
